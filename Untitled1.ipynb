{
  "nbformat": 4,
  "nbformat_minor": 0,
  "metadata": {
    "colab": {
      "provenance": [],
      "authorship_tag": "ABX9TyOfDb8oo5iJwf1NHpZ5S+3O",
      "include_colab_link": true
    },
    "kernelspec": {
      "name": "python3",
      "display_name": "Python 3"
    },
    "language_info": {
      "name": "python"
    }
  },
  "cells": [
    {
      "cell_type": "markdown",
      "metadata": {
        "id": "view-in-github",
        "colab_type": "text"
      },
      "source": [
        "<a href=\"https://colab.research.google.com/github/jhersonccanto/tarjeta-encriptada/blob/main/Untitled1.ipynb\" target=\"_parent\"><img src=\"https://colab.research.google.com/assets/colab-badge.svg\" alt=\"Open In Colab\"/></a>"
      ]
    },
    {
      "cell_type": "code",
      "execution_count": 1,
      "metadata": {
        "colab": {
          "base_uri": "https://localhost:8080/"
        },
        "id": "xNbtr5ukr5bI",
        "outputId": "5abe7578-50ec-45a2-99c2-180c54c8ee5f"
      },
      "outputs": [
        {
          "output_type": "stream",
          "name": "stdout",
          "text": [
            "Collecting pycryptodome\n",
            "  Downloading pycryptodome-3.22.0-cp37-abi3-manylinux_2_17_x86_64.manylinux2014_x86_64.whl.metadata (3.4 kB)\n",
            "Requirement already satisfied: rsa in /usr/local/lib/python3.11/dist-packages (4.9)\n",
            "Requirement already satisfied: pyasn1>=0.1.3 in /usr/local/lib/python3.11/dist-packages (from rsa) (0.6.1)\n",
            "Downloading pycryptodome-3.22.0-cp37-abi3-manylinux_2_17_x86_64.manylinux2014_x86_64.whl (2.3 MB)\n",
            "\u001b[2K   \u001b[90m━━━━━━━━━━━━━━━━━━━━━━━━━━━━━━━━━━━━━━━━\u001b[0m \u001b[32m2.3/2.3 MB\u001b[0m \u001b[31m8.9 MB/s\u001b[0m eta \u001b[36m0:00:00\u001b[0m\n",
            "\u001b[?25hInstalling collected packages: pycryptodome\n",
            "Successfully installed pycryptodome-3.22.0\n"
          ]
        }
      ],
      "source": [
        "!pip install pycryptodome rsa"
      ]
    },
    {
      "cell_type": "code",
      "source": [
        "from Crypto.Cipher import AES\n",
        "from Crypto.Util.Padding import pad, unpad\n",
        "from Crypto.Random import get_random_bytes\n",
        "import base64\n",
        "\n",
        "# Generamos una clave AES de 256 bits\n",
        "key = get_random_bytes(30)  # 256 bits para AES-256\n",
        "cipher = AES.new(key, AES.MODE_CBC)\n",
        "\n",
        "# Datos a cifrar (ejemplo, un número de tarjeta de crédito)\n",
        "data = \"1234567890123111\"  # Un ejemplo de tarjeta de crédito\n",
        "\n",
        "# Cifrado de los datos con AES\n",
        "ciphertext = cipher.encrypt(pad(data.encode(), AES.block_size))\n",
        "\n",
        "# Codificamos el resultado en base64 para poder visualizarlo fácilmente\n",
        "encoded_ciphertext = base64.b64encode(ciphertext).decode()\n",
        "\n",
        "# Mostrar los resultados\n",
        "print(\"Clave AES (en base64):\", base64.b64encode(key).decode())\n",
        "print(\"Texto cifrado (en base64):\", encoded_ciphertext)\n",
        "\n"
      ],
      "metadata": {
        "colab": {
          "base_uri": "https://localhost:8080/"
        },
        "id": "Yg7PtuofvlAa",
        "outputId": "866da635-23be-4f6b-e575-63b05028c2d4"
      },
      "execution_count": 5,
      "outputs": [
        {
          "output_type": "stream",
          "name": "stdout",
          "text": [
            "Clave AES (en base64): dNSg9+VIeBnw9laj8zH5myImmeWdry6T49I5SJMWr9I=\n",
            "Texto cifrado (en base64): r7fRlWbdHjfTf1Fu8Y7f3wvnwgeCTf/Ve4op0mFKncU=\n"
          ]
        }
      ]
    },
    {
      "cell_type": "code",
      "source": [
        "import rsa\n",
        "\n",
        "# Generamos las claves pública y privada RSA\n",
        "(public_key, private_key) = rsa.newkeys(2048)\n",
        "\n",
        "# Cifrado de la clave AES con la clave pública RSA\n",
        "encrypted_key = rsa.encrypt(key, public_key)\n",
        "\n",
        "# Cifrado híbrido: ciframos el mensaje con AES y la clave AES está cifrada con RSA\n",
        "print(\"Clave RSA pública:\", base64.b64encode(public_key.save_pkcs1()).decode())\n",
        "print(\"Clave RSA privada:\", base64.b64encode(private_key.save_pkcs1()).decode())\n",
        "print(\"Clave AES cifrada con RSA (en base64):\", base64.b64encode(encrypted_key).decode())\n"
      ],
      "metadata": {
        "colab": {
          "base_uri": "https://localhost:8080/"
        },
        "id": "mAqFvDGwv1n9",
        "outputId": "243dc9c4-03ea-4558-a6a8-ec2cd24e3ba0"
      },
      "execution_count": 6,
      "outputs": [
        {
          "output_type": "stream",
          "name": "stdout",
          "text": [
            "Clave RSA pública: LS0tLS1CRUdJTiBSU0EgUFVCTElDIEtFWS0tLS0tCk1JSUJDZ0tDQVFFQXNZVmN6aTBWT1VzekRYWElaanovYXZCNDh0MEdrQUx3Y2RJOFZzTHhHaGZJRzhtTXBVWisKNU13YzVOOUgyMGNlcUowMFZhQVI0V0lkZnV2V0FDWGRHUzYwY09OY0ZnajlMMitsb0J0U01zZGpSWmlPdTJYRwpiK1VTRG85MFJ3UHY3WjlwN2dwUXA5Z1I2NCt5ODM0TmtKOGswbVdpSlJuWDJlYXlBU3YyZlJPSm8rZkh5S0pwCkhreFkrdWRuWkFjRVQ0Rm02NDdEeTB2dllPRFFMbjdibHZ2MW8ycDF1cGxQUE8xd0ZzZ1N3cjErZ3Jxcm5NVmMKVm5RU3VpOUNEVk8xdEZaVHl0Z0VodVY3TTdHM0xlZ2VNczFFZTBJeHEwTlErNkxFWlFIdExKbWl5M0c3RXhpYgpPKzhsNE5IWUE1YUI1aW1SSzdjemRyWTZ5aEFNVHNRalZ3SURBUUFCCi0tLS0tRU5EIFJTQSBQVUJMSUMgS0VZLS0tLS0K\n",
            "Clave RSA privada: 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\n",
            "Clave AES cifrada con RSA (en base64): qZO8zNDpRq/7ldpfmBw5hmnVG3xT0rAYdZxvlHZwunSJaeid3mWYxY9Of2dj/sby4Vb+RWQfhz4gJ1YsFOdNpEnrhtuAPDoieJP3YWEBBcsjiOrAF5q0+2PM2kkKVOE52kxzz4YmWEn6Fwe33hGVoxm0zJXZUjsUnRNKJU6Dum2ZNeWYGL4HnEk7kaCZr9P04vrrCIim7O4BPMlu4gFy8D3wf3b/nXSX610LIxL//FBdh0UkHAtgvZlrn0GzZnlAyjPA7lne2TzDSIvLXUN7F+0VQ7RsEqVjcWnFNKd+JhEL4w2Pj+abigDByUPrWxGfVZ4d1s61Kk0fDldrvPVyqQ==\n"
          ]
        }
      ]
    },
    {
      "cell_type": "code",
      "source": [
        "# Descifrado de la clave AES con la clave privada RSA\n",
        "decrypted_key = rsa.decrypt(encrypted_key, private_key)\n",
        "\n",
        "# Descifrado del mensaje usando la clave AES\n",
        "cipher = AES.new(decrypted_key, AES.MODE_CBC, iv=cipher.iv)  # Usamos el IV que usamos para cifrar\n",
        "decrypted_data = unpad(cipher.decrypt(base64.b64decode(encoded_ciphertext)), AES.block_size).decode()\n",
        "\n",
        "print(\"Mensaje original descifrado:\", decrypted_data)\n"
      ],
      "metadata": {
        "colab": {
          "base_uri": "https://localhost:8080/"
        },
        "id": "4IiDBYcZv71l",
        "outputId": "805bf796-722c-4c33-fa8a-ca26dae1fc05"
      },
      "execution_count": 7,
      "outputs": [
        {
          "output_type": "stream",
          "name": "stdout",
          "text": [
            "Mensaje original descifrado: 1234567890123111\n"
          ]
        }
      ]
    }
  ]
}